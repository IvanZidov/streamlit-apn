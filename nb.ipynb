{
 "cells": [
  {
   "cell_type": "code",
   "execution_count": null,
   "metadata": {},
   "outputs": [],
   "source": [
    "import streamlit as st\n",
    "import pandas as pd\n",
    "import matplotlib.pyplot as plt\n",
    "from pycoingecko import CoinGeckoAPI\n",
    "from datetime import datetime, timedelta\n",
    "cg = CoinGeckoAPI()\n",
    "\n",
    "st.write(\"\"\"\n",
    "# Doge FOMO Calculator\n",
    "Use the option below to set your parameters for:\n",
    "- Date You Wish You Would Have Bought $Doge\n",
    "- USD Amount You Wish You Would Have Invested\n",
    "\"\"\")\n",
    "st.write('---')\n",
    "\n",
    "#st.image('data/doge.jpg', use_column_width=True)\n",
    "st.write(\"[Photo by Minh Pham](https://unsplash.com/@minhphamdesign?utm_source=unsplash&utm_medium=referral&utm_content=creditCopyText)\")\n",
    "#Photo by <a href=\"https://unsplash.com/@minhphamdesign?utm_source=unsplash&utm_medium=referral&utm_content=creditCopyText\">Minh Pham</a> on <a href=\"https://unsplash.com/?utm_source=unsplash&utm_medium=referral&utm_content=creditCopyText\">Unsplash</a>\n",
    "   \n",
    "\n",
    "#Load Data\n",
    "doge_current = cg.get_price(ids='dogecoin', vs_currencies='usd')['dogecoin']['usd']\n",
    "\n",
    "\n",
    "\n",
    "#Giving Choices\n",
    "st.write('''# Choose Date and Amount''')\n",
    "today = datetime.utcnow().date()\n",
    "previous_day = today - timedelta(days=1)\n",
    "HIST_DATE = st.date_input(\"Date: \", value=previous_day, min_value=datetime(2014,1,1), max_value=previous_day)\n",
    "ORG_USD = st.number_input(\"USD Amount: \", min_value=1, max_value=999999999)\n",
    "\n",
    "\n",
    "#Reformat Historical Date for next function\n",
    "HIST_DATE_REFORMAT = HIST_DATE.strftime(\"%d-%m-%Y\")\n",
    "HIST_DATE_datetime = datetime.strptime(HIST_DATE_REFORMAT,\"%d-%m-%Y\")\n",
    "doge_historic = cg.get_coin_history_by_id(id='dogecoin', vs_currencies='usd', date=HIST_DATE_REFORMAT)['market_data']['current_price']['usd']\n",
    "\n",
    "doge_historic = round(doge_historic, 5)\n",
    "\n",
    "st.write('''# Results''')\n",
    "st.write('''## Historic Analysis''')\n",
    "st.write(\"You would have originally bought: ***{:,.2f}*** $DOGE\".format(round((ORG_USD/doge_historic),5)))\n",
    "st.write(\"At a price of ***{:,.9f}*** per $DOGE\".format(doge_historic))\n",
    "st.write(\" \")\n",
    "\n",
    "st.write('''## Present Effects''')\n",
    "total_doge = ORG_USD/doge_historic\n",
    "current_USD = total_doge * doge_current\n",
    "perc_change = (current_USD - ORG_USD)/(ORG_USD)*100\n",
    "usd_diff = current_USD - ORG_USD\n",
    "\n",
    "st.write(\"That is currently worth: ***${:,.2f}***\".format(round(current_USD,2)))\n",
    "st.write(\"Which is a percentage change of ***{:,.2f}%***\".format(round(perc_change, 2),))\n",
    "\n",
    "if usd_diff == 0:\n",
    "   st.write('''# You Broke Even''')\n",
    "elif usd_diff <= 0:\n",
    "   st.write('''# You Would Have Lost''')\n",
    "else:\n",
    "   st.write('''# You Missed Out On''') \n",
    "st.write('***${:,.2f}!!!***'.format(abs(round(usd_diff,2)),))\n",
    "\n",
    "now = datetime.now()\n",
    "historical_prices = cg.get_coin_market_chart_range_by_id(id='dogecoin', vs_currency=\"usd\", from_timestamp=HIST_DATE_datetime.timestamp(), to_timestamp=now.timestamp())['prices']\n",
    "\n",
    "dates = []\n",
    "prices = []\n",
    "\n",
    "for x,y in historical_prices:\n",
    "  dates.append(x)\n",
    "  prices.append(y)\n",
    "\n",
    "dictionary = {\"Prices\":prices, \"Dates\":dates}\n",
    "df = pd.DataFrame(dictionary)\n",
    "df['Dates'] = pd.to_datetime(df['Dates'],unit='ms',origin='unix')\n",
    "\n",
    "st.line_chart(df.rename(columns={\"Dates\":\"index\"}).set_index(\"index\"))\n",
    "st.write(\"Please consider donating some of that sweet $DOGE to the wallet address below:\")\n",
    "st.write(\"DGVqvZW43P5yLkdZfddaPfibZcBtSxa52A\")"
   ]
  },
  {
   "cell_type": "code",
   "execution_count": 2,
   "metadata": {},
   "outputs": [],
   "source": [
    "import pandas as pd\n",
    "import altair as alt"
   ]
  },
  {
   "cell_type": "code",
   "execution_count": 9,
   "metadata": {},
   "outputs": [],
   "source": [
    "df = pd.DataFrame([{\"Title\":\"Model1\",\"Mjesecna_rata\":3000,\"Ukupno_placeno\":100000},{\"Title\":\"Model2\",\"Mjesecna_rata\":4000,\"Ukupno_placeno\":120000}])"
   ]
  },
  {
   "cell_type": "code",
   "execution_count": 16,
   "metadata": {},
   "outputs": [
    {
     "data": {
      "text/html": [
       "<div>\n",
       "<style scoped>\n",
       "    .dataframe tbody tr th:only-of-type {\n",
       "        vertical-align: middle;\n",
       "    }\n",
       "\n",
       "    .dataframe tbody tr th {\n",
       "        vertical-align: top;\n",
       "    }\n",
       "\n",
       "    .dataframe thead th {\n",
       "        text-align: right;\n",
       "    }\n",
       "</style>\n",
       "<table border=\"1\" class=\"dataframe\">\n",
       "  <thead>\n",
       "    <tr style=\"text-align: right;\">\n",
       "      <th></th>\n",
       "      <th>Title</th>\n",
       "      <th>Mjesecna_rata</th>\n",
       "      <th>Ukupno_placeno</th>\n",
       "    </tr>\n",
       "  </thead>\n",
       "  <tbody>\n",
       "    <tr>\n",
       "      <th>0</th>\n",
       "      <td>Model1</td>\n",
       "      <td>3000</td>\n",
       "      <td>100000</td>\n",
       "    </tr>\n",
       "    <tr>\n",
       "      <th>1</th>\n",
       "      <td>Model2</td>\n",
       "      <td>4000</td>\n",
       "      <td>120000</td>\n",
       "    </tr>\n",
       "    <tr>\n",
       "      <th>0</th>\n",
       "      <td>Model3</td>\n",
       "      <td>3000</td>\n",
       "      <td>100000</td>\n",
       "    </tr>\n",
       "  </tbody>\n",
       "</table>\n",
       "</div>"
      ],
      "text/plain": [
       "    Title  Mjesecna_rata  Ukupno_placeno\n",
       "0  Model1           3000          100000\n",
       "1  Model2           4000          120000\n",
       "0  Model3           3000          100000"
      ]
     },
     "execution_count": 16,
     "metadata": {},
     "output_type": "execute_result"
    }
   ],
   "source": [
    "df.append([{\"Title\":\"Model3\",\"Mjesecna_rata\":3000,\"Ukupno_placeno\":100000}])"
   ]
  },
  {
   "cell_type": "code",
   "execution_count": 14,
   "metadata": {},
   "outputs": [
    {
     "data": {
      "text/html": [
       "\n",
       "<div id=\"altair-viz-8edc4ef55f114f7db236eb922b82b0d0\"></div>\n",
       "<script type=\"text/javascript\">\n",
       "  (function(spec, embedOpt){\n",
       "    let outputDiv = document.currentScript.previousElementSibling;\n",
       "    if (outputDiv.id !== \"altair-viz-8edc4ef55f114f7db236eb922b82b0d0\") {\n",
       "      outputDiv = document.getElementById(\"altair-viz-8edc4ef55f114f7db236eb922b82b0d0\");\n",
       "    }\n",
       "    const paths = {\n",
       "      \"vega\": \"https://cdn.jsdelivr.net/npm//vega@5?noext\",\n",
       "      \"vega-lib\": \"https://cdn.jsdelivr.net/npm//vega-lib?noext\",\n",
       "      \"vega-lite\": \"https://cdn.jsdelivr.net/npm//vega-lite@4.8.1?noext\",\n",
       "      \"vega-embed\": \"https://cdn.jsdelivr.net/npm//vega-embed@6?noext\",\n",
       "    };\n",
       "\n",
       "    function loadScript(lib) {\n",
       "      return new Promise(function(resolve, reject) {\n",
       "        var s = document.createElement('script');\n",
       "        s.src = paths[lib];\n",
       "        s.async = true;\n",
       "        s.onload = () => resolve(paths[lib]);\n",
       "        s.onerror = () => reject(`Error loading script: ${paths[lib]}`);\n",
       "        document.getElementsByTagName(\"head\")[0].appendChild(s);\n",
       "      });\n",
       "    }\n",
       "\n",
       "    function showError(err) {\n",
       "      outputDiv.innerHTML = `<div class=\"error\" style=\"color:red;\">${err}</div>`;\n",
       "      throw err;\n",
       "    }\n",
       "\n",
       "    function displayChart(vegaEmbed) {\n",
       "      vegaEmbed(outputDiv, spec, embedOpt)\n",
       "        .catch(err => showError(`Javascript Error: ${err.message}<br>This usually means there's a typo in your chart specification. See the javascript console for the full traceback.`));\n",
       "    }\n",
       "\n",
       "    if(typeof define === \"function\" && define.amd) {\n",
       "      requirejs.config({paths});\n",
       "      require([\"vega-embed\"], displayChart, err => showError(`Error loading script: ${err.message}`));\n",
       "    } else if (typeof vegaEmbed === \"function\") {\n",
       "      displayChart(vegaEmbed);\n",
       "    } else {\n",
       "      loadScript(\"vega\")\n",
       "        .then(() => loadScript(\"vega-lite\"))\n",
       "        .then(() => loadScript(\"vega-embed\"))\n",
       "        .catch(showError)\n",
       "        .then(() => displayChart(vegaEmbed));\n",
       "    }\n",
       "  })({\"config\": {\"view\": {\"continuousWidth\": 400, \"continuousHeight\": 300}}, \"data\": {\"name\": \"data-58893b8d1338cc503f8e902ffe58ff18\"}, \"mark\": \"bar\", \"encoding\": {\"tooltip\": [{\"type\": \"nominal\", \"field\": \"Title\"}], \"x\": {\"type\": \"nominal\", \"field\": \"Title\"}, \"y\": {\"type\": \"quantitative\", \"field\": \"Mjesecna_rata\"}}, \"$schema\": \"https://vega.github.io/schema/vega-lite/v4.8.1.json\", \"datasets\": {\"data-58893b8d1338cc503f8e902ffe58ff18\": [{\"Title\": \"Model1\", \"Mjesecna_rata\": 3000, \"Ukupno_placeno\": 100000}, {\"Title\": \"Model2\", \"Mjesecna_rata\": 4000, \"Ukupno_placeno\": 120000}]}}, {\"mode\": \"vega-lite\"});\n",
       "</script>"
      ],
      "text/plain": [
       "alt.Chart(...)"
      ]
     },
     "execution_count": 14,
     "metadata": {},
     "output_type": "execute_result"
    }
   ],
   "source": [
    "alt.Chart(df).mark_bar().encode(\n",
    "    x='Title',\n",
    "    y='Mjesecna_rata',\n",
    "    tooltip=[\"Title\"]\n",
    ")"
   ]
  },
  {
   "cell_type": "code",
   "execution_count": 13,
   "metadata": {},
   "outputs": [
    {
     "data": {
      "text/plain": [
       "['Model1', 'Model2']"
      ]
     },
     "execution_count": 13,
     "metadata": {},
     "output_type": "execute_result"
    }
   ],
   "source": [
    "df.Title.to_list()"
   ]
  }
 ],
 "metadata": {
  "interpreter": {
   "hash": "53ea20719044db1fdebc9394422d814484db686d523a9eb2db6dec9fec5964ce"
  },
  "kernelspec": {
   "display_name": "Python 3.9.7 64-bit ('streamlit': conda)",
   "name": "python3"
  },
  "language_info": {
   "codemirror_mode": {
    "name": "ipython",
    "version": 3
   },
   "file_extension": ".py",
   "mimetype": "text/x-python",
   "name": "python",
   "nbconvert_exporter": "python",
   "pygments_lexer": "ipython3",
   "version": "3.9.7"
  },
  "orig_nbformat": 4
 },
 "nbformat": 4,
 "nbformat_minor": 2
}
